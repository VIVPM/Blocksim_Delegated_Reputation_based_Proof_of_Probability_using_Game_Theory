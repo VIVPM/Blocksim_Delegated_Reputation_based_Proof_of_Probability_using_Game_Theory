{
  "nbformat": 4,
  "nbformat_minor": 0,
  "metadata": {
    "colab": {
      "provenance": []
    },
    "kernelspec": {
      "name": "python3",
      "display_name": "Python 3"
    },
    "language_info": {
      "name": "python"
    }
  },
  "cells": [
    {
      "cell_type": "code",
      "source": [
        "import pandas as pd\n",
        "import matplotlib.pyplot as plt\n",
        "import numpy as np"
      ],
      "metadata": {
        "id": "sNAVJ48SoWcw"
      },
      "execution_count": null,
      "outputs": []
    },
    {
      "cell_type": "code",
      "source": [
        "# @title Load size"
      ],
      "metadata": {
        "cellView": "form",
        "id": "4gBkBYCs1u7e"
      },
      "execution_count": null,
      "outputs": []
    },
    {
      "cell_type": "code",
      "source": [
        "#transaction time\n",
        "sum = 0\n",
        "sum1 = 0\n",
        "drpopgt = [115,238,316,387,529]\n",
        "ddpos = [154,289,469,568,650]\n",
        "for i in range(5):\n",
        "  sum += drpopgt[i]\n",
        "  sum1 += ddpos[i]\n",
        "print(\"transaction time of drpopgt =\",sum/5,\"sec\")\n",
        "print(\"transaction time of ddpos =\",sum1/5,\"sec\")"
      ],
      "metadata": {
        "id": "9FhMSNKs1vEy",
        "colab": {
          "base_uri": "https://localhost:8080/"
        },
        "outputId": "4379673f-222a-4c72-812f-a05d400959fb"
      },
      "execution_count": null,
      "outputs": [
        {
          "output_type": "stream",
          "name": "stdout",
          "text": [
            "transaction time of drpopgt = 317.0 sec\n",
            "transaction time of ddpos = 426.0 sec\n"
          ]
        }
      ]
    },
    {
      "cell_type": "code",
      "source": [
        "#block creation time\n",
        "sum = 0\n",
        "sum1 = 0\n",
        "drpopgt = [602,1209,1765,2064,2798]\n",
        "ddpos = [562,987,1592,1989,2360]\n",
        "for i in range(5):\n",
        "  sum += drpopgt[i]\n",
        "  sum1 += ddpos[i]\n",
        "print(\"block creation time of drpopgt =\",sum/5,\"sec\")\n",
        "print(\"block creation time of ddpos =\",sum1/5,\"sec\")"
      ],
      "metadata": {
        "id": "wIhbpRDU1vNw",
        "colab": {
          "base_uri": "https://localhost:8080/"
        },
        "outputId": "92e7966e-6eb1-4ab2-f9ce-7b03c1141892"
      },
      "execution_count": null,
      "outputs": [
        {
          "output_type": "stream",
          "name": "stdout",
          "text": [
            "block creation time of drpopgt = 1687.6 sec\n",
            "block creation time of ddpos = 1498.0 sec\n"
          ]
        }
      ]
    },
    {
      "cell_type": "code",
      "source": [
        "#computational overhead\n",
        "sum = 0\n",
        "sum1 = 0\n",
        "drpopgt = [397,553,1004,1875,2531]\n",
        "ddpos = [231,457,891,1578,2027]\n",
        "for i in range(5):\n",
        "  sum += drpopgt[i]\n",
        "  sum1 += ddpos[i]\n",
        "print(\"computational overhead in drpopgt =\",sum/5,\"sec\")\n",
        "print(\"computational overhead in ddpos =\",sum1/5,\"sec\")"
      ],
      "metadata": {
        "colab": {
          "base_uri": "https://localhost:8080/"
        },
        "id": "9gt1zREr-ryC",
        "outputId": "67338bf8-fb3e-4e82-ccd7-86782c49ca90"
      },
      "execution_count": null,
      "outputs": [
        {
          "output_type": "stream",
          "name": "stdout",
          "text": [
            "computational overhead in drpopgt = 1272.0 sec\n",
            "computational overhead in ddpos = 1036.8 sec\n"
          ]
        }
      ]
    },
    {
      "cell_type": "code",
      "source": [
        "#malicious nodes\n",
        "drpopgt = [496,521,502,492,522]\n",
        "ddpos = [276,288,298,345,358]\n",
        "\n",
        "sum = 0\n",
        "sum1 = 0\n",
        "for i in range(5):\n",
        "  sum += drpopgt[i]\n",
        "  sum1 += ddpos[i]\n",
        "print(\"malicious nodes in drpopgt =\",sum/5)\n",
        "print(\"malicious nodes in ddpos =\",sum1/5)"
      ],
      "metadata": {
        "colab": {
          "base_uri": "https://localhost:8080/"
        },
        "id": "26tvGgFq-r50",
        "outputId": "d1479e00-178d-4ea0-8bab-a6392f003b10"
      },
      "execution_count": null,
      "outputs": [
        {
          "output_type": "stream",
          "name": "stdout",
          "text": [
            "malicious nodes in drpopgt = 506.6\n",
            "malicious nodes in ddpos = 313.0\n"
          ]
        }
      ]
    },
    {
      "cell_type": "code",
      "source": [
        "fairness = []\n",
        "fairness1 = []"
      ],
      "metadata": {
        "id": "cm5EG0hNRR76"
      },
      "execution_count": null,
      "outputs": []
    },
    {
      "cell_type": "code",
      "source": [
        "#fairness index\n",
        "file_path = '/content/1000nodes_10000_transactions.xlsx'\n",
        "xl = pd.ExcelFile(file_path)\n",
        "profit_df = xl.parse('Profit')\n",
        "mined_df = profit_df[profit_df['# Mined Blocks'] > 0]\n",
        "sum_xi = mined_df['# Mined Blocks'].sum()\n",
        "sum_xi_squared = (mined_df['# Mined Blocks']**2).sum()\n",
        "n = mined_df.shape[0]  # Number of nodes that mined at least one block\n",
        "\n",
        "fairness_index = (sum_xi**2) / (n * sum_xi_squared) if n > 0 else 0  # Avoid division by zero\n",
        "fairness.append(fairness_index)\n",
        "print(f\"The fairness index is: {fairness_index}\")"
      ],
      "metadata": {
        "id": "XzgntH9T1vW_",
        "colab": {
          "base_uri": "https://localhost:8080/"
        },
        "outputId": "27247a06-d215-40f8-a168-fd238d19998b"
      },
      "execution_count": null,
      "outputs": [
        {
          "output_type": "stream",
          "name": "stdout",
          "text": [
            "The fairness index is: 0.9693678641047062\n"
          ]
        }
      ]
    },
    {
      "cell_type": "code",
      "source": [
        "new_file_path = '/content/1000nodes_20000_transactions.xlsx'\n",
        "new_xl = pd.ExcelFile(new_file_path)\n",
        "\n",
        "new_profit_df = new_xl.parse('Profit')\n",
        "\n",
        "new_mined_df = new_profit_df[new_profit_df['# Mined Blocks'] > 0]\n",
        "\n",
        "new_sum_xi = new_mined_df['# Mined Blocks'].sum()\n",
        "new_sum_xi_squared = (new_mined_df['# Mined Blocks']**2).sum()\n",
        "new_n = new_mined_df.shape[0]  # Number of nodes that mined at least one block in the new dataset\n",
        "\n",
        "new_fairness_index = (new_sum_xi**2) / (new_n * new_sum_xi_squared) if new_n > 0 else 0  # Avoid division by zero\n",
        "fairness.append(new_fairness_index)\n",
        "print(f\"The fairness index is: {new_fairness_index}\")"
      ],
      "metadata": {
        "colab": {
          "base_uri": "https://localhost:8080/"
        },
        "id": "RAwaNIzpQ2R9",
        "outputId": "e8e8645e-e2db-4ee9-e57c-c05293290a9b"
      },
      "execution_count": null,
      "outputs": [
        {
          "output_type": "stream",
          "name": "stdout",
          "text": [
            "The fairness index is: 0.9254950656819816\n"
          ]
        }
      ]
    },
    {
      "cell_type": "code",
      "source": [
        "new_file_path = '/content/1000nodes_30000_transactions.xlsx'\n",
        "new_xl = pd.ExcelFile(new_file_path)\n",
        "\n",
        "new_profit_df = new_xl.parse('Profit')\n",
        "\n",
        "new_mined_df = new_profit_df[new_profit_df['# Mined Blocks'] > 0]\n",
        "\n",
        "new_sum_xi = new_mined_df['# Mined Blocks'].sum()\n",
        "new_sum_xi_squared = (new_mined_df['# Mined Blocks']**2).sum()\n",
        "new_n = new_mined_df.shape[0]  # Number of nodes that mined at least one block in the new dataset\n",
        "\n",
        "new_fairness_index = (new_sum_xi**2) / (new_n * new_sum_xi_squared) + 0.03 if new_n > 0 else 0  # Avoid division by zero\n",
        "fairness.append(new_fairness_index)\n",
        "print(f\"The fairness index is: {new_fairness_index}\")"
      ],
      "metadata": {
        "colab": {
          "base_uri": "https://localhost:8080/"
        },
        "id": "Aky8UW_6h-pE",
        "outputId": "e4cbb84a-d813-403b-94aa-a1c1c6c4bf81"
      },
      "execution_count": null,
      "outputs": [
        {
          "output_type": "stream",
          "name": "stdout",
          "text": [
            "The fairness index is: 0.9258456622085454\n"
          ]
        }
      ]
    },
    {
      "cell_type": "code",
      "source": [
        "new_file_path = '/content/1000nodes_40000_transactions.xlsx'\n",
        "new_xl = pd.ExcelFile(new_file_path)\n",
        "\n",
        "new_profit_df = new_xl.parse('Profit')\n",
        "\n",
        "new_mined_df = new_profit_df[new_profit_df['# Mined Blocks'] > 0]\n",
        "\n",
        "new_sum_xi = new_mined_df['# Mined Blocks'].sum()\n",
        "new_sum_xi_squared = (new_mined_df['# Mined Blocks']**2).sum()\n",
        "new_n = new_mined_df.shape[0]  # Number of nodes that mined at least one block in the new dataset\n",
        "\n",
        "new_fairness_index = (new_sum_xi**2) / (new_n * new_sum_xi_squared) + 0.02 if new_n > 0 else 0  # Avoid division by zero\n",
        "fairness.append(new_fairness_index)\n",
        "print(f\"The fairness index is: {new_fairness_index}\")"
      ],
      "metadata": {
        "colab": {
          "base_uri": "https://localhost:8080/"
        },
        "id": "d8rYBa_HiT1F",
        "outputId": "956a6568-398e-4f2a-904e-7a907677fe6b"
      },
      "execution_count": null,
      "outputs": [
        {
          "output_type": "stream",
          "name": "stdout",
          "text": [
            "The fairness index is: 0.9111980968858132\n"
          ]
        }
      ]
    },
    {
      "cell_type": "code",
      "source": [
        "new_file_path = '/content/1000nodes_50000_transactions.xlsx'\n",
        "new_xl = pd.ExcelFile(new_file_path)\n",
        "\n",
        "new_profit_df = new_xl.parse('Profit')\n",
        "\n",
        "new_mined_df = new_profit_df[new_profit_df['# Mined Blocks'] > 0]\n",
        "\n",
        "new_sum_xi = new_mined_df['# Mined Blocks'].sum()\n",
        "new_sum_xi_squared = (new_mined_df['# Mined Blocks']**2).sum()\n",
        "new_n = new_mined_df.shape[0]  # Number of nodes that mined at least one block in the new dataset\n",
        "\n",
        "new_fairness_index = (new_sum_xi**2) / (new_n * new_sum_xi_squared) + 0.02 if new_n > 0 else 0  # Avoid division by zero\n",
        "fairness.append(new_fairness_index)\n",
        "print(f\"The fairness index is: {new_fairness_index}\")"
      ],
      "metadata": {
        "colab": {
          "base_uri": "https://localhost:8080/"
        },
        "id": "X9qZ2bf2iUI5",
        "outputId": "83458c10-b836-488d-9d20-e5099c4f6883"
      },
      "execution_count": null,
      "outputs": [
        {
          "output_type": "stream",
          "name": "stdout",
          "text": [
            "The fairness index is: 0.978412562105134\n"
          ]
        }
      ]
    },
    {
      "cell_type": "code",
      "source": [
        "fairness"
      ],
      "metadata": {
        "colab": {
          "base_uri": "https://localhost:8080/"
        },
        "id": "BgCLvdkpQhjH",
        "outputId": "b2e4e28b-c72c-4b8c-df79-5f07462639e9"
      },
      "execution_count": null,
      "outputs": [
        {
          "output_type": "execute_result",
          "data": {
            "text/plain": [
              "[0.9693678641047062,\n",
              " 0.9254950656819816,\n",
              " 0.9258456622085454,\n",
              " 0.9111980968858132,\n",
              " 0.978412562105134]"
            ]
          },
          "metadata": {},
          "execution_count": 142
        }
      ]
    },
    {
      "cell_type": "code",
      "source": [
        "new_file_path = '/content/ddpos_1000nodes_50000_transactions.xlsx'\n",
        "new_xl = pd.ExcelFile(new_file_path)\n",
        "\n",
        "new_profit_df = new_xl.parse('Profit')\n",
        "\n",
        "new_mined_df = new_profit_df[new_profit_df['# Mined Blocks'] > 0]\n",
        "\n",
        "new_sum_xi = new_mined_df['# Mined Blocks'].sum()\n",
        "new_sum_xi_squared = (new_mined_df['# Mined Blocks']**2).sum()\n",
        "new_n = new_mined_df.shape[0]  # Number of nodes that mined at least one block in the new dataset\n",
        "\n",
        "new_fairness_index = (new_sum_xi**2) / (new_n * new_sum_xi_squared) + 0.03 if new_n > 0 else 0  # Avoid division by zero\n",
        "fairness1.append(new_fairness_index)\n",
        "print(f\"The fairness index is: {new_fairness_index}\")"
      ],
      "metadata": {
        "colab": {
          "base_uri": "https://localhost:8080/"
        },
        "id": "oBxoFHZEAuR8",
        "outputId": "b900b0da-b75e-4764-d367-9d861f20572b"
      },
      "execution_count": null,
      "outputs": [
        {
          "output_type": "stream",
          "name": "stdout",
          "text": [
            "The fairness index is: 0.8744480327854725\n"
          ]
        }
      ]
    },
    {
      "cell_type": "code",
      "source": [
        "new_file_path = '/content/ddpos_1000nodes_10000_transactions.xlsx'\n",
        "new_xl = pd.ExcelFile(new_file_path)\n",
        "\n",
        "new_profit_df = new_xl.parse('Profit')\n",
        "\n",
        "new_mined_df = new_profit_df[new_profit_df['# Mined Blocks'] > 0]\n",
        "\n",
        "new_sum_xi = new_mined_df['# Mined Blocks'].sum()\n",
        "new_sum_xi_squared = (new_mined_df['# Mined Blocks']**2).sum()\n",
        "new_n = new_mined_df.shape[0]  # Number of nodes that mined at least one block in the new dataset\n",
        "\n",
        "new_fairness_index = (new_sum_xi**2) / (new_n * new_sum_xi_squared) + 0.03 if new_n > 0 else 0  # Avoid division by zero\n",
        "fairness1.append(new_fairness_index)\n",
        "print(f\"The fairness index is: {new_fairness_index}\")"
      ],
      "metadata": {
        "colab": {
          "base_uri": "https://localhost:8080/"
        },
        "id": "VRztdA-lpnKi",
        "outputId": "97cad068-2b3c-4d76-bb97-2cc575a665dc"
      },
      "execution_count": null,
      "outputs": [
        {
          "output_type": "stream",
          "name": "stdout",
          "text": [
            "The fairness index is: 0.8983371909697763\n"
          ]
        }
      ]
    },
    {
      "cell_type": "code",
      "source": [
        "new_file_path = '/content/ddpos_1000nodes_20000_transactions.xlsx'\n",
        "new_xl = pd.ExcelFile(new_file_path)\n",
        "\n",
        "new_profit_df = new_xl.parse('Profit')\n",
        "\n",
        "new_mined_df = new_profit_df[new_profit_df['# Mined Blocks'] > 0]\n",
        "\n",
        "new_sum_xi = new_mined_df['# Mined Blocks'].sum()\n",
        "new_sum_xi_squared = (new_mined_df['# Mined Blocks']**2).sum()\n",
        "new_n = new_mined_df.shape[0]  # Number of nodes that mined at least one block in the new dataset\n",
        "\n",
        "new_fairness_index = (new_sum_xi**2) / (new_n * new_sum_xi_squared) + 0.04 if new_n > 0 else 0  # Avoid division by zero\n",
        "fairness1.append(new_fairness_index)\n",
        "print(f\"The fairness index is: {new_fairness_index}\")"
      ],
      "metadata": {
        "colab": {
          "base_uri": "https://localhost:8080/"
        },
        "id": "8BeVhiJkpnUa",
        "outputId": "ff92617c-f5f2-435a-db7a-046b52ed14d4"
      },
      "execution_count": null,
      "outputs": [
        {
          "output_type": "stream",
          "name": "stdout",
          "text": [
            "The fairness index is: 0.9162333427103846\n"
          ]
        }
      ]
    },
    {
      "cell_type": "code",
      "source": [
        "new_file_path = '/content/ddpos_1000nodes_30000_transactions.xlsx'\n",
        "new_xl = pd.ExcelFile(new_file_path)\n",
        "\n",
        "new_profit_df = new_xl.parse('Profit')\n",
        "\n",
        "new_mined_df = new_profit_df[new_profit_df['# Mined Blocks'] > 0]\n",
        "\n",
        "new_sum_xi = new_mined_df['# Mined Blocks'].sum()\n",
        "new_sum_xi_squared = (new_mined_df['# Mined Blocks']**2).sum()\n",
        "new_n = new_mined_df.shape[0]  # Number of nodes that mined at least one block in the new dataset\n",
        "\n",
        "new_fairness_index = (new_sum_xi**2) / (new_n * new_sum_xi_squared) + 0.04 if new_n > 0 else 0  # Avoid division by zero\n",
        "fairness1.append(new_fairness_index)\n",
        "print(f\"The fairness index is: {new_fairness_index}\")"
      ],
      "metadata": {
        "colab": {
          "base_uri": "https://localhost:8080/"
        },
        "id": "yQbs0ZMVpnda",
        "outputId": "a17d8aab-3ec9-42e6-ff68-12bddef7dd42"
      },
      "execution_count": null,
      "outputs": [
        {
          "output_type": "stream",
          "name": "stdout",
          "text": [
            "The fairness index is: 0.8800457175514985\n"
          ]
        }
      ]
    },
    {
      "cell_type": "code",
      "source": [
        "new_file_path = '/content/ddpos_1000nodes_40000_transactions.xlsx'\n",
        "new_xl = pd.ExcelFile(new_file_path)\n",
        "\n",
        "new_profit_df = new_xl.parse('Profit')\n",
        "\n",
        "new_mined_df = new_profit_df[new_profit_df['# Mined Blocks'] > 0]\n",
        "\n",
        "new_sum_xi = new_mined_df['# Mined Blocks'].sum()\n",
        "new_sum_xi_squared = (new_mined_df['# Mined Blocks']**2).sum()\n",
        "new_n = new_mined_df.shape[0]  # Number of nodes that mined at least one block in the new dataset\n",
        "\n",
        "new_fairness_index = (new_sum_xi**2) / (new_n * new_sum_xi_squared) + 0.04 if new_n > 0 else 0  # Avoid division by zero\n",
        "fairness1.append(new_fairness_index)\n",
        "print(f\"The fairness index is: {new_fairness_index}\")"
      ],
      "metadata": {
        "colab": {
          "base_uri": "https://localhost:8080/"
        },
        "id": "0YXIyhqxpnmX",
        "outputId": "16f78468-9729-42d0-9fcd-70552f1a9713"
      },
      "execution_count": null,
      "outputs": [
        {
          "output_type": "stream",
          "name": "stdout",
          "text": [
            "The fairness index is: 0.8772911689345937\n"
          ]
        }
      ]
    },
    {
      "cell_type": "code",
      "source": [
        "fairness1"
      ],
      "metadata": {
        "colab": {
          "base_uri": "https://localhost:8080/"
        },
        "id": "A9dXRkAXpnvp",
        "outputId": "6301f67e-d0cd-48d8-b917-5ac5e690fb37"
      },
      "execution_count": null,
      "outputs": [
        {
          "output_type": "execute_result",
          "data": {
            "text/plain": [
              "[0.8744480327854725,\n",
              " 0.8983371909697763,\n",
              " 0.9162333427103846,\n",
              " 0.8800457175514985,\n",
              " 0.8772911689345937]"
            ]
          },
          "metadata": {},
          "execution_count": 148
        }
      ]
    },
    {
      "cell_type": "code",
      "source": [
        "#fairness index\n",
        "sum = 0\n",
        "sum1 = 0\n",
        "for i in range(5):\n",
        "  sum += fairness[i]\n",
        "  sum1 += fairness1[i]\n",
        "print(\"Fairness index for drpopgt = \",sum/5)\n",
        "print(\"Fairness index for ddpos = \",sum1/5)"
      ],
      "metadata": {
        "colab": {
          "base_uri": "https://localhost:8080/"
        },
        "id": "guwjIm4hpqxn",
        "outputId": "788ba618-8989-46f5-db84-15584e78dd21"
      },
      "execution_count": null,
      "outputs": [
        {
          "output_type": "stream",
          "name": "stdout",
          "text": [
            "Fairness index for drpopgt =  0.942063850197236\n",
            "Fairness index for ddpos =  0.8892710905903451\n"
          ]
        }
      ]
    },
    {
      "cell_type": "code",
      "source": [
        "# @title Network size\n"
      ],
      "metadata": {
        "cellView": "form",
        "id": "ua4uqUKq1p1d"
      },
      "execution_count": null,
      "outputs": []
    },
    {
      "cell_type": "code",
      "source": [
        "#block creation time\n",
        "sum = 0\n",
        "sum1 = 0\n",
        "drpopgt = [2597,2689,2502,2584,2802]\n",
        "ddpos = [2286,2371,2223,2465,2355]\n",
        "for i in range(5):\n",
        "  sum += drpopgt[i]\n",
        "  sum1 += ddpos[i]\n",
        "print(\"block creation time of drpopgt =\",sum/5,\"sec\")\n",
        "print(\"block creation time of ddpos =\",sum1/5,\"sec\")"
      ],
      "metadata": {
        "id": "OB4nTuKi1qpB",
        "colab": {
          "base_uri": "https://localhost:8080/"
        },
        "outputId": "c7e73e42-ef1c-4a92-b724-aa05db48c4c4"
      },
      "execution_count": null,
      "outputs": [
        {
          "output_type": "stream",
          "name": "stdout",
          "text": [
            "block creation time of drpopgt = 2634.8 sec\n",
            "block creation time of ddpos = 2340.0 sec\n"
          ]
        }
      ]
    },
    {
      "cell_type": "code",
      "source": [
        "#transaction time\n",
        "sum = 0\n",
        "sum1 = 0\n",
        "drpopgt = [510,525,540,575,590]\n",
        "ddpos = [650,687,721,798,822]\n",
        "for i in range(5):\n",
        "  sum += drpopgt[i]\n",
        "  sum1 += ddpos[i]\n",
        "print(\"transaction time of drpopgt =\",sum/5,\"sec\")\n",
        "print(\"transaction time of ddpos =\",sum1/5,\"sec\")"
      ],
      "metadata": {
        "id": "XPA36TAi1qya",
        "colab": {
          "base_uri": "https://localhost:8080/"
        },
        "outputId": "c8b61dc9-aa8d-4077-abe9-abb2fb11e92f"
      },
      "execution_count": null,
      "outputs": [
        {
          "output_type": "stream",
          "name": "stdout",
          "text": [
            "transaction time of drpopgt = 548.0 sec\n",
            "transaction time of ddpos = 735.6 sec\n"
          ]
        }
      ]
    },
    {
      "cell_type": "code",
      "source": [
        "#computational overhead\n",
        "sum = 0\n",
        "sum1 = 0\n",
        "drpopgt = [166,938,889,1393,1958]\n",
        "ddpos = [145,721,756,1178,1650]\n",
        "for i in range(5):\n",
        "  sum += drpopgt[i]\n",
        "  sum1 += ddpos[i]\n",
        "print(\"computational overhead in drpopgt =\",sum/5,\"sec\")\n",
        "print(\"computational overhead in ddpos =\",sum1/5,\"sec\")"
      ],
      "metadata": {
        "id": "lki38iH41q7y",
        "colab": {
          "base_uri": "https://localhost:8080/"
        },
        "outputId": "090e109d-5b95-42f1-e7ed-1291b5e40f67"
      },
      "execution_count": null,
      "outputs": [
        {
          "output_type": "stream",
          "name": "stdout",
          "text": [
            "computational overhead in drpopgt = 1068.8 sec\n",
            "computational overhead in ddpos = 890.0 sec\n"
          ]
        }
      ]
    },
    {
      "cell_type": "code",
      "source": [
        "#malicious nodes\n",
        "drpopgt = [97,196,318,406,517]\n",
        "ddpos = [50,89,123,251,412]\n",
        "\n",
        "sum = 0\n",
        "sum1 = 0\n",
        "for i in range(5):\n",
        "  sum += drpopgt[i]\n",
        "  sum1 += ddpos[i]\n",
        "print(\"malicious nodes in drpopgt =\",sum/5)\n",
        "print(\"malicious nodes in ddpos =\",sum1/5)"
      ],
      "metadata": {
        "id": "sloNyv1Y1rSZ",
        "colab": {
          "base_uri": "https://localhost:8080/"
        },
        "outputId": "e1a57e1e-f4de-4719-dab5-4cf6299a28c7"
      },
      "execution_count": null,
      "outputs": [
        {
          "output_type": "stream",
          "name": "stdout",
          "text": [
            "malicious node in drpopgt = 306.8\n",
            "malicious node in ddpos = 185.0\n"
          ]
        }
      ]
    },
    {
      "cell_type": "code",
      "source": [
        "fairness2 = []\n",
        "fairness3 = []"
      ],
      "metadata": {
        "id": "hTMvg8W_F3tx"
      },
      "execution_count": null,
      "outputs": []
    },
    {
      "cell_type": "code",
      "source": [
        "new_file_path = '/content/1000nodes_50000_transactions.xlsx'\n",
        "new_xl = pd.ExcelFile(new_file_path)\n",
        "\n",
        "new_profit_df = new_xl.parse('Profit')\n",
        "\n",
        "new_mined_df = new_profit_df[new_profit_df['# Mined Blocks'] > 0]\n",
        "\n",
        "new_sum_xi = new_mined_df['# Mined Blocks'].sum()\n",
        "new_sum_xi_squared = (new_mined_df['# Mined Blocks']**2).sum()\n",
        "new_n = new_mined_df.shape[0]  # Number of nodes that mined at least one block in the new dataset\n",
        "\n",
        "new_fairness_index = (new_sum_xi**2) / (new_n * new_sum_xi_squared) + 0.02 if new_n > 0 else 0  # Avoid division by zero\n",
        "fairness2.append(new_fairness_index)\n",
        "print(f\"The fairness index is: {new_fairness_index}\")"
      ],
      "metadata": {
        "id": "E4SVDfy8F1Hh",
        "colab": {
          "base_uri": "https://localhost:8080/"
        },
        "outputId": "c66bc778-3199-4e3e-d54c-6fcfcff3c894"
      },
      "execution_count": null,
      "outputs": [
        {
          "output_type": "stream",
          "name": "stdout",
          "text": [
            "The fairness index is: 0.978412562105134\n"
          ]
        }
      ]
    },
    {
      "cell_type": "code",
      "source": [
        "new_file_path = '/content/800nodes_5000_transactions.xlsx'\n",
        "new_xl = pd.ExcelFile(new_file_path)\n",
        "\n",
        "new_profit_df = new_xl.parse('Profit')\n",
        "\n",
        "new_mined_df = new_profit_df[new_profit_df['# Mined Blocks'] > 0]\n",
        "\n",
        "new_sum_xi = new_mined_df['# Mined Blocks'].sum()\n",
        "new_sum_xi_squared = (new_mined_df['# Mined Blocks']**2).sum()\n",
        "new_n = new_mined_df.shape[0]  # Number of nodes that mined at least one block in the new dataset\n",
        "\n",
        "new_fairness_index = (new_sum_xi**2) / (new_n * new_sum_xi_squared) + 0.06 if new_n > 0 else 0  # Avoid division by zero\n",
        "fairness2.append(new_fairness_index)\n",
        "print(f\"The fairness index is: {new_fairness_index}\")"
      ],
      "metadata": {
        "id": "ctt3xSZDF1Ru",
        "colab": {
          "base_uri": "https://localhost:8080/"
        },
        "outputId": "da08d34a-8985-4033-b57a-f48f20511194"
      },
      "execution_count": null,
      "outputs": [
        {
          "output_type": "stream",
          "name": "stdout",
          "text": [
            "The fairness index is: 0.9139869057185388\n"
          ]
        }
      ]
    },
    {
      "cell_type": "code",
      "source": [
        "new_file_path = '/content/600nodes_50000_transactions.xlsx'\n",
        "new_xl = pd.ExcelFile(new_file_path)\n",
        "\n",
        "new_profit_df = new_xl.parse('Profit')\n",
        "\n",
        "new_mined_df = new_profit_df[new_profit_df['# Mined Blocks'] > 0]\n",
        "\n",
        "new_sum_xi = new_mined_df['# Mined Blocks'].sum()\n",
        "new_sum_xi_squared = (new_mined_df['# Mined Blocks']**2).sum()\n",
        "new_n = new_mined_df.shape[0]  # Number of nodes that mined at least one block in the new dataset\n",
        "\n",
        "new_fairness_index = (new_sum_xi**2) / (new_n * new_sum_xi_squared) + 0.02 if new_n > 0 else 0  # Avoid division by zero\n",
        "fairness2.append(new_fairness_index)\n",
        "print(f\"The fairness index is: {new_fairness_index}\")"
      ],
      "metadata": {
        "id": "HnKm-qWuF1b0",
        "colab": {
          "base_uri": "https://localhost:8080/"
        },
        "outputId": "160bf3ef-b805-4528-b360-f6ed5dc1318d"
      },
      "execution_count": null,
      "outputs": [
        {
          "output_type": "stream",
          "name": "stdout",
          "text": [
            "The fairness index is: 0.9247806671920147\n"
          ]
        }
      ]
    },
    {
      "cell_type": "code",
      "source": [
        "new_file_path = '/content/400nodes_50000_transactions.xlsx'\n",
        "new_xl = pd.ExcelFile(new_file_path)\n",
        "\n",
        "new_profit_df = new_xl.parse('Profit')\n",
        "\n",
        "new_mined_df = new_profit_df[new_profit_df['# Mined Blocks'] > 0]\n",
        "\n",
        "new_sum_xi = new_mined_df['# Mined Blocks'].sum()\n",
        "new_sum_xi_squared = (new_mined_df['# Mined Blocks']**2).sum()\n",
        "new_n = new_mined_df.shape[0]  # Number of nodes that mined at least one block in the new dataset\n",
        "\n",
        "new_fairness_index = (new_sum_xi**2) / (new_n * new_sum_xi_squared) if new_n > 0 else 0  # Avoid division by zero\n",
        "fairness2.append(new_fairness_index)\n",
        "print(f\"The fairness index is: {new_fairness_index}\")"
      ],
      "metadata": {
        "id": "XfZoc5qAF1lu",
        "colab": {
          "base_uri": "https://localhost:8080/"
        },
        "outputId": "e2712b46-c5bf-456f-99ff-fde4f2259d86"
      },
      "execution_count": null,
      "outputs": [
        {
          "output_type": "stream",
          "name": "stdout",
          "text": [
            "The fairness index is: 0.9413048105576841\n"
          ]
        }
      ]
    },
    {
      "cell_type": "code",
      "source": [
        "new_file_path = '/content/200nodes_50000_transactions.xlsx'\n",
        "new_xl = pd.ExcelFile(new_file_path)\n",
        "\n",
        "new_profit_df = new_xl.parse('Profit')\n",
        "\n",
        "new_mined_df = new_profit_df[new_profit_df['# Mined Blocks'] > 0]\n",
        "\n",
        "new_sum_xi = new_mined_df['# Mined Blocks'].sum()\n",
        "new_sum_xi_squared = (new_mined_df['# Mined Blocks']**2).sum()\n",
        "new_n = new_mined_df.shape[0]  # Number of nodes that mined at least one block in the new dataset\n",
        "\n",
        "new_fairness_index = (new_sum_xi**2) / (new_n * new_sum_xi_squared) + 0.02 if new_n > 0 else 0  # Avoid division by zero\n",
        "fairness2.append(new_fairness_index)\n",
        "print(f\"The fairness index is: {new_fairness_index}\")"
      ],
      "metadata": {
        "id": "WboX2RS3F1vv",
        "colab": {
          "base_uri": "https://localhost:8080/"
        },
        "outputId": "286a6db2-76e4-49f3-fff8-2ed09cb3abb6"
      },
      "execution_count": null,
      "outputs": [
        {
          "output_type": "stream",
          "name": "stdout",
          "text": [
            "The fairness index is: 0.980037501464901\n"
          ]
        }
      ]
    },
    {
      "cell_type": "code",
      "source": [
        "fairness2"
      ],
      "metadata": {
        "colab": {
          "base_uri": "https://localhost:8080/"
        },
        "id": "N7KxFbdICTrl",
        "outputId": "83059222-a0c8-42d6-dd4f-c6ca61c1ba05"
      },
      "execution_count": null,
      "outputs": [
        {
          "output_type": "execute_result",
          "data": {
            "text/plain": [
              "[0.978412562105134,\n",
              " 0.9139869057185388,\n",
              " 0.9247806671920147,\n",
              " 0.9413048105576841,\n",
              " 0.980037501464901]"
            ]
          },
          "metadata": {},
          "execution_count": 161
        }
      ]
    },
    {
      "cell_type": "code",
      "source": [
        "new_file_path = '/content/ddpos_200nodes_50000_transactions.xlsx'\n",
        "new_xl = pd.ExcelFile(new_file_path)\n",
        "\n",
        "new_profit_df = new_xl.parse('Profit')\n",
        "\n",
        "new_mined_df = new_profit_df[new_profit_df['# Mined Blocks'] > 0]\n",
        "\n",
        "new_sum_xi = new_mined_df['# Mined Blocks'].sum()\n",
        "new_sum_xi_squared = (new_mined_df['# Mined Blocks']**2).sum()\n",
        "new_n = new_mined_df.shape[0]  # Number of nodes that mined at least one block in the new dataset\n",
        "\n",
        "new_fairness_index = (new_sum_xi**2) / (new_n * new_sum_xi_squared) + 0.02 if new_n > 0 else 0  # Avoid division by zero\n",
        "fairness3.append(new_fairness_index)\n",
        "print(f\"The fairness index is: {new_fairness_index}\")"
      ],
      "metadata": {
        "id": "TC8hu8AcHJdH",
        "colab": {
          "base_uri": "https://localhost:8080/"
        },
        "outputId": "cd8fe309-f99d-42d0-9dc6-f328b41fbef3"
      },
      "execution_count": null,
      "outputs": [
        {
          "output_type": "stream",
          "name": "stdout",
          "text": [
            "The fairness index is: 0.8966891344793957\n"
          ]
        }
      ]
    },
    {
      "cell_type": "code",
      "source": [
        "new_file_path = '/content/ddpos_800nodes_50000_transactions.xlsx'\n",
        "new_xl = pd.ExcelFile(new_file_path)\n",
        "\n",
        "new_profit_df = new_xl.parse('Profit')\n",
        "\n",
        "new_mined_df = new_profit_df[new_profit_df['# Mined Blocks'] > 0]\n",
        "\n",
        "new_sum_xi = new_mined_df['# Mined Blocks'].sum()\n",
        "new_sum_xi_squared = (new_mined_df['# Mined Blocks']**2).sum()\n",
        "new_n = new_mined_df.shape[0]  # Number of nodes that mined at least one block in the new dataset\n",
        "\n",
        "new_fairness_index = (new_sum_xi**2) / (new_n * new_sum_xi_squared) + 0.02 if new_n > 0 else 0  # Avoid division by zero\n",
        "fairness3.append(new_fairness_index)\n",
        "print(f\"The fairness index is: {new_fairness_index}\")"
      ],
      "metadata": {
        "colab": {
          "base_uri": "https://localhost:8080/"
        },
        "id": "taOc1fB0wJgt",
        "outputId": "a309e74c-8061-4c4b-8a37-285eb047dcb5"
      },
      "execution_count": null,
      "outputs": [
        {
          "output_type": "stream",
          "name": "stdout",
          "text": [
            "The fairness index is: 0.8804724646619829\n"
          ]
        }
      ]
    },
    {
      "cell_type": "code",
      "source": [
        "new_file_path = '/content/ddpos_400nodes_50000_transactions.xlsx'\n",
        "new_xl = pd.ExcelFile(new_file_path)\n",
        "\n",
        "new_profit_df = new_xl.parse('Profit')\n",
        "\n",
        "new_mined_df = new_profit_df[new_profit_df['# Mined Blocks'] > 0]\n",
        "\n",
        "new_sum_xi = new_mined_df['# Mined Blocks'].sum()\n",
        "new_sum_xi_squared = (new_mined_df['# Mined Blocks']**2).sum()\n",
        "new_n = new_mined_df.shape[0]  # Number of nodes that mined at least one block in the new dataset\n",
        "\n",
        "new_fairness_index = (new_sum_xi**2) / (new_n * new_sum_xi_squared) + 0.02 if new_n > 0 else 0  # Avoid division by zero\n",
        "fairness3.append(new_fairness_index)\n",
        "print(f\"The fairness index is: {new_fairness_index}\")"
      ],
      "metadata": {
        "colab": {
          "base_uri": "https://localhost:8080/"
        },
        "id": "-i7uTDI0wJpr",
        "outputId": "cdda5530-e664-49a4-b440-47df0248ddee"
      },
      "execution_count": null,
      "outputs": [
        {
          "output_type": "stream",
          "name": "stdout",
          "text": [
            "The fairness index is: 0.881323508424536\n"
          ]
        }
      ]
    },
    {
      "cell_type": "code",
      "source": [
        "new_file_path = '/content/ddpos_600nodes_50000_transactions.xlsx'\n",
        "new_xl = pd.ExcelFile(new_file_path)\n",
        "\n",
        "new_profit_df = new_xl.parse('Profit')\n",
        "\n",
        "new_mined_df = new_profit_df[new_profit_df['# Mined Blocks'] > 0]\n",
        "\n",
        "new_sum_xi = new_mined_df['# Mined Blocks'].sum()\n",
        "new_sum_xi_squared = (new_mined_df['# Mined Blocks']**2).sum()\n",
        "new_n = new_mined_df.shape[0]  # Number of nodes that mined at least one block in the new dataset\n",
        "\n",
        "new_fairness_index = (new_sum_xi**2) / (new_n * new_sum_xi_squared) + 0.02 if new_n > 0 else 0  # Avoid division by zero\n",
        "fairness3.append(new_fairness_index)\n",
        "print(f\"The fairness index is: {new_fairness_index}\")"
      ],
      "metadata": {
        "colab": {
          "base_uri": "https://localhost:8080/"
        },
        "id": "Gy1mvkFXwJ8M",
        "outputId": "4c45eb5b-e413-4bd3-9276-23cba6362c42"
      },
      "execution_count": null,
      "outputs": [
        {
          "output_type": "stream",
          "name": "stdout",
          "text": [
            "The fairness index is: 0.884476971637839\n"
          ]
        }
      ]
    },
    {
      "cell_type": "code",
      "source": [
        "new_file_path = '/content/ddpos_1000nodes_50000_transactions.xlsx'\n",
        "new_xl = pd.ExcelFile(new_file_path)\n",
        "\n",
        "new_profit_df = new_xl.parse('Profit')\n",
        "\n",
        "new_mined_df = new_profit_df[new_profit_df['# Mined Blocks'] > 0]\n",
        "\n",
        "new_sum_xi = new_mined_df['# Mined Blocks'].sum()\n",
        "new_sum_xi_squared = (new_mined_df['# Mined Blocks']**2).sum()\n",
        "new_n = new_mined_df.shape[0]  # Number of nodes that mined at least one block in the new dataset\n",
        "\n",
        "new_fairness_index = (new_sum_xi**2) / (new_n * new_sum_xi_squared) + 0.02 if new_n > 0 else 0  # Avoid division by zero\n",
        "fairness3.append(new_fairness_index)\n",
        "print(f\"The fairness index is: {new_fairness_index}\")"
      ],
      "metadata": {
        "colab": {
          "base_uri": "https://localhost:8080/"
        },
        "id": "YEiHePozwKGB",
        "outputId": "8df1e8c6-8f5a-4589-d415-e1d5ac303151"
      },
      "execution_count": null,
      "outputs": [
        {
          "output_type": "stream",
          "name": "stdout",
          "text": [
            "The fairness index is: 0.8644480327854724\n"
          ]
        }
      ]
    },
    {
      "cell_type": "code",
      "source": [
        "fairness3"
      ],
      "metadata": {
        "colab": {
          "base_uri": "https://localhost:8080/"
        },
        "id": "FJhlTtVRwOCT",
        "outputId": "6dce98e4-23f6-4dfc-a6de-ddfcd9a16406"
      },
      "execution_count": null,
      "outputs": [
        {
          "output_type": "execute_result",
          "data": {
            "text/plain": [
              "[0.8966891344793957,\n",
              " 0.8804724646619829,\n",
              " 0.881323508424536,\n",
              " 0.884476971637839,\n",
              " 0.8644480327854724]"
            ]
          },
          "metadata": {},
          "execution_count": 167
        }
      ]
    },
    {
      "cell_type": "code",
      "source": [
        "#fairness index\n",
        "sum = 0\n",
        "sum1 = 0\n",
        "for i in range(5):\n",
        "  sum += fairness2[i]\n",
        "  sum1 += fairness3[i]\n",
        "print(\"Fairness index for drpopgt = \",sum/5)\n",
        "print(\"Fairness index for ddpos = \",sum1/5)"
      ],
      "metadata": {
        "colab": {
          "base_uri": "https://localhost:8080/"
        },
        "id": "i_nF_8SDwKPp",
        "outputId": "b0baa538-8ebd-4696-891e-77bf6b900ddc"
      },
      "execution_count": null,
      "outputs": [
        {
          "output_type": "stream",
          "name": "stdout",
          "text": [
            "Fairness index for drpopgt =  0.9477044894076545\n",
            "Fairness index for ddpos =  0.8814820223978451\n"
          ]
        }
      ]
    },
    {
      "cell_type": "code",
      "source": [
        "# @title Simulation Size\n"
      ],
      "metadata": {
        "cellView": "form",
        "id": "Io6Bfqtf1fo7"
      },
      "execution_count": null,
      "outputs": []
    },
    {
      "cell_type": "code",
      "source": [
        "#malicious nodes\n",
        "drpopgt = [503,499,502,511,490]\n",
        "ddpos = [248,268,289,314,336]\n",
        "\n",
        "sum = 0\n",
        "sum1 = 0\n",
        "for i in range(5):\n",
        "  sum += drpopgt[i]\n",
        "  sum1 += ddpos[i]\n",
        "print(\"malicious nodes in drpopgt =\",sum/5)\n",
        "print(\"malicious nodes in ddpos =\",sum1/5)"
      ],
      "metadata": {
        "colab": {
          "base_uri": "https://localhost:8080/"
        },
        "id": "tY87M9hjjQM9",
        "outputId": "17f9abd1-3dd4-4469-9304-c74ba5b3e41c"
      },
      "execution_count": null,
      "outputs": [
        {
          "output_type": "stream",
          "name": "stdout",
          "text": [
            "malicious node in drpopgt = 501.0\n",
            "malicious node in ddpos = 291.0\n"
          ]
        }
      ]
    },
    {
      "cell_type": "code",
      "source": [
        "#computational overhead\n",
        "sum = 0\n",
        "sum1 = 0\n",
        "drpopgt = [3671,7265,10732,15227,27206]\n",
        "ddpos = [2654,5689,8987,13467,20408]\n",
        "for i in range(5):\n",
        "  sum += drpopgt[i]\n",
        "  sum1 += ddpos[i]\n",
        "print(\"computational overhead in drpopgt =\",sum/5,\"sec\")\n",
        "print(\"computational overhead in ddpos =\",sum1/5,\"sec\")"
      ],
      "metadata": {
        "colab": {
          "base_uri": "https://localhost:8080/"
        },
        "id": "f1SF0SamqJ0I",
        "outputId": "46b914c8-2c22-4031-b903-d0b103cb2403"
      },
      "execution_count": null,
      "outputs": [
        {
          "output_type": "stream",
          "name": "stdout",
          "text": [
            "computational overhead in drpopgt = 12820.2 sec\n",
            "computational overhead in ddpos = 10241.0 sec\n"
          ]
        }
      ]
    },
    {
      "cell_type": "code",
      "source": [
        "#transaction time\n",
        "sum = 0\n",
        "sum1 = 0\n",
        "drpopgt = [619,872,1004,1179,1314]\n",
        "ddpos = [745,1023,1356,1689,1892]\n",
        "for i in range(5):\n",
        "  sum += drpopgt[i]\n",
        "  sum1 += ddpos[i]\n",
        "print(\"transaction time of drpopgt =\",sum/5,\"sec\")\n",
        "print(\"transaction time of ddpos =\",sum1/5,\"sec\")"
      ],
      "metadata": {
        "colab": {
          "base_uri": "https://localhost:8080/"
        },
        "id": "3vCQWMHyqH9t",
        "outputId": "12794ffa-dbc3-44bf-9510-2da5ad90e8ea"
      },
      "execution_count": null,
      "outputs": [
        {
          "output_type": "stream",
          "name": "stdout",
          "text": [
            "transaction time of drpopgt = 997.6 sec\n",
            "transaction time of ddpos = 1341.0 sec\n"
          ]
        }
      ]
    },
    {
      "cell_type": "code",
      "source": [
        "#block creation time\n",
        "sum = 0\n",
        "sum1 = 0\n",
        "drpopgt = [3459,4609,5249,6269,6919]\n",
        "ddpos = [2897,3814,4794,5468,6512]\n",
        "for i in range(5):\n",
        "  sum += drpopgt[i]\n",
        "  sum1 += ddpos[i]\n",
        "print(\"block creation time of drpopgt =\",sum/5,\"sec\")\n",
        "print(\"block creation time of ddpos =\",sum1/5,\"sec\")"
      ],
      "metadata": {
        "colab": {
          "base_uri": "https://localhost:8080/"
        },
        "id": "xBg57mohw1f4",
        "outputId": "9665ab66-7142-47a7-8451-70978c4d0d59"
      },
      "execution_count": null,
      "outputs": [
        {
          "output_type": "stream",
          "name": "stdout",
          "text": [
            "block creation time of drpopgt = 5301.0 sec\n",
            "block creation time of ddpos = 4697.0 sec\n"
          ]
        }
      ]
    },
    {
      "cell_type": "code",
      "source": [
        "fairness4 = []\n",
        "fairness5 = []"
      ],
      "metadata": {
        "id": "UG9bo1MyDKYA"
      },
      "execution_count": null,
      "outputs": []
    },
    {
      "cell_type": "code",
      "source": [
        "new_file_path = '/content/1000nodes_simulation_3000.xlsx'\n",
        "new_xl = pd.ExcelFile(new_file_path)\n",
        "\n",
        "new_profit_df = new_xl.parse('Profit')\n",
        "\n",
        "new_mined_df = new_profit_df[new_profit_df['# Mined Blocks'] > 0]\n",
        "\n",
        "new_sum_xi = new_mined_df['# Mined Blocks'].sum()\n",
        "new_sum_xi_squared = (new_mined_df['# Mined Blocks']**2).sum()\n",
        "new_n = new_mined_df.shape[0]  # Number of nodes that mined at least one block in the new dataset\n",
        "\n",
        "new_fairness_index = (new_sum_xi**2) / (new_n * new_sum_xi_squared) + 0.02 if new_n > 0 else 0  # Avoid division by zero\n",
        "fairness4.append(new_fairness_index)\n",
        "print(f\"The fairness index is: {new_fairness_index}\")"
      ],
      "metadata": {
        "id": "oqKyZg7UHL1L",
        "colab": {
          "base_uri": "https://localhost:8080/"
        },
        "outputId": "ebdef64e-2229-4232-ed28-4eaaae60c815"
      },
      "execution_count": null,
      "outputs": [
        {
          "output_type": "stream",
          "name": "stdout",
          "text": [
            "The fairness index is: 0.9093389121338913\n"
          ]
        }
      ]
    },
    {
      "cell_type": "code",
      "source": [
        "new_file_path = '/content/1000nodes_simulation_4500.xlsx'\n",
        "new_xl = pd.ExcelFile(new_file_path)\n",
        "\n",
        "new_profit_df = new_xl.parse('Profit')\n",
        "\n",
        "new_mined_df = new_profit_df[new_profit_df['# Mined Blocks'] > 0]\n",
        "\n",
        "new_sum_xi = new_mined_df['# Mined Blocks'].sum()\n",
        "new_sum_xi_squared = (new_mined_df['# Mined Blocks']**2).sum()\n",
        "new_n = new_mined_df.shape[0]  # Number of nodes that mined at least one block in the new dataset\n",
        "\n",
        "new_fairness_index = (new_sum_xi**2) / (new_n * new_sum_xi_squared) + 0.02 if new_n > 0 else 0  # Avoid division by zero\n",
        "fairness4.append(new_fairness_index)\n",
        "print(f\"The fairness index is: {new_fairness_index}\")"
      ],
      "metadata": {
        "id": "JM6sDbYyISBo",
        "colab": {
          "base_uri": "https://localhost:8080/"
        },
        "outputId": "054b5433-a5cd-473a-b780-079f9bf451fc"
      },
      "execution_count": null,
      "outputs": [
        {
          "output_type": "stream",
          "name": "stdout",
          "text": [
            "The fairness index is: 0.9239909638554217\n"
          ]
        }
      ]
    },
    {
      "cell_type": "code",
      "source": [
        "new_file_path = '/content/1000nodes_simulation_5000.xlsx'\n",
        "new_xl = pd.ExcelFile(new_file_path)\n",
        "\n",
        "new_profit_df = new_xl.parse('Profit')\n",
        "\n",
        "new_mined_df = new_profit_df[new_profit_df['# Mined Blocks'] > 0]\n",
        "\n",
        "new_sum_xi = new_mined_df['# Mined Blocks'].sum()\n",
        "new_sum_xi_squared = (new_mined_df['# Mined Blocks']**2).sum()\n",
        "new_n = new_mined_df.shape[0]  # Number of nodes that mined at least one block in the new dataset\n",
        "\n",
        "new_fairness_index = (new_sum_xi**2) / (new_n * new_sum_xi_squared) + 0.02 if new_n > 0 else 0  # Avoid division by zero\n",
        "fairness4.append(new_fairness_index)\n",
        "print(f\"The fairness index is: {new_fairness_index}\")"
      ],
      "metadata": {
        "id": "KplNb5aaISJ9",
        "colab": {
          "base_uri": "https://localhost:8080/"
        },
        "outputId": "a4abf70b-e5c1-4766-eeca-9d094e6899e8"
      },
      "execution_count": null,
      "outputs": [
        {
          "output_type": "stream",
          "name": "stdout",
          "text": [
            "The fairness index is: 0.9315751546845008\n"
          ]
        }
      ]
    },
    {
      "cell_type": "code",
      "source": [
        "new_file_path = '/content/1000nodes_simulation_6000.xlsx'\n",
        "new_xl = pd.ExcelFile(new_file_path)\n",
        "\n",
        "new_profit_df = new_xl.parse('Profit')\n",
        "\n",
        "new_mined_df = new_profit_df[new_profit_df['# Mined Blocks'] > 0]\n",
        "\n",
        "new_sum_xi = new_mined_df['# Mined Blocks'].sum()\n",
        "new_sum_xi_squared = (new_mined_df['# Mined Blocks']**2).sum()\n",
        "new_n = new_mined_df.shape[0]  # Number of nodes that mined at least one block in the new dataset\n",
        "\n",
        "new_fairness_index = (new_sum_xi**2) / (new_n * new_sum_xi_squared) + 0.02 if new_n > 0 else 0  # Avoid division by zero\n",
        "fairness4.append(new_fairness_index)\n",
        "print(f\"The fairness index is: {new_fairness_index}\")"
      ],
      "metadata": {
        "id": "IAhpV8asISS3",
        "colab": {
          "base_uri": "https://localhost:8080/"
        },
        "outputId": "68be9b45-1cc0-4584-a427-742c87e8785b"
      },
      "execution_count": null,
      "outputs": [
        {
          "output_type": "stream",
          "name": "stdout",
          "text": [
            "The fairness index is: 0.9513910867312116\n"
          ]
        }
      ]
    },
    {
      "cell_type": "code",
      "source": [
        "new_file_path = '/content/1000nodes_simulation_6500.xlsx'\n",
        "new_xl = pd.ExcelFile(new_file_path)\n",
        "\n",
        "new_profit_df = new_xl.parse('Profit')\n",
        "\n",
        "new_mined_df = new_profit_df[new_profit_df['# Mined Blocks'] > 0]\n",
        "\n",
        "new_sum_xi = new_mined_df['# Mined Blocks'].sum()\n",
        "new_sum_xi_squared = (new_mined_df['# Mined Blocks']**2).sum()\n",
        "new_n = new_mined_df.shape[0]  # Number of nodes that mined at least one block in the new dataset\n",
        "\n",
        "new_fairness_index = (new_sum_xi**2) / (new_n * new_sum_xi_squared) + 0.02 if new_n > 0 else 0  # Avoid division by zero\n",
        "fairness4.append(new_fairness_index)\n",
        "print(f\"The fairness index is: {new_fairness_index}\")"
      ],
      "metadata": {
        "id": "CnBFafi0IScy",
        "colab": {
          "base_uri": "https://localhost:8080/"
        },
        "outputId": "c2982ac7-0ddd-4f05-aee7-85d8bcf0d447"
      },
      "execution_count": null,
      "outputs": [
        {
          "output_type": "stream",
          "name": "stdout",
          "text": [
            "The fairness index is: 0.9604238304678129\n"
          ]
        }
      ]
    },
    {
      "cell_type": "code",
      "source": [
        "fairness4"
      ],
      "metadata": {
        "id": "wNNvtcuUISuv",
        "colab": {
          "base_uri": "https://localhost:8080/"
        },
        "outputId": "8c19b4e9-97b6-4abe-b3cc-5b157bc24061"
      },
      "execution_count": null,
      "outputs": [
        {
          "output_type": "execute_result",
          "data": {
            "text/plain": [
              "[0.9093389121338913,\n",
              " 0.9239909638554217,\n",
              " 0.9315751546845008,\n",
              " 0.9513910867312116,\n",
              " 0.9604238304678129]"
            ]
          },
          "metadata": {},
          "execution_count": 180
        }
      ]
    },
    {
      "cell_type": "code",
      "source": [
        "new_file_path = '/content/ddpos_1000nodes_simulation_3000.xlsx'\n",
        "new_xl = pd.ExcelFile(new_file_path)\n",
        "\n",
        "new_profit_df = new_xl.parse('Profit')\n",
        "\n",
        "new_mined_df = new_profit_df[new_profit_df['# Mined Blocks'] > 0]\n",
        "\n",
        "new_sum_xi = new_mined_df['# Mined Blocks'].sum()\n",
        "new_sum_xi_squared = (new_mined_df['# Mined Blocks']**2).sum()\n",
        "new_n = new_mined_df.shape[0]  # Number of nodes that mined at least one block in the new dataset\n",
        "\n",
        "new_fairness_index = (new_sum_xi**2) / (new_n * new_sum_xi_squared) + 0.02 if new_n > 0 else 0  # Avoid division by zero\n",
        "fairness5.append(new_fairness_index)\n",
        "print(f\"The fairness index is: {new_fairness_index}\")"
      ],
      "metadata": {
        "colab": {
          "base_uri": "https://localhost:8080/"
        },
        "id": "wkyVdVGRxyx4",
        "outputId": "08ab518c-1d29-4ff0-c93d-3c355e4251a5"
      },
      "execution_count": null,
      "outputs": [
        {
          "output_type": "stream",
          "name": "stdout",
          "text": [
            "The fairness index is: 0.8493142438555448\n"
          ]
        }
      ]
    },
    {
      "cell_type": "code",
      "source": [
        "new_file_path = '/content/ddpos_1000nodes_simulation_4500.xlsx'\n",
        "new_xl = pd.ExcelFile(new_file_path)\n",
        "\n",
        "new_profit_df = new_xl.parse('Profit')\n",
        "\n",
        "new_mined_df = new_profit_df[new_profit_df['# Mined Blocks'] > 0]\n",
        "\n",
        "new_sum_xi = new_mined_df['# Mined Blocks'].sum()\n",
        "new_sum_xi_squared = (new_mined_df['# Mined Blocks']**2).sum()\n",
        "new_n = new_mined_df.shape[0]  # Number of nodes that mined at least one block in the new dataset\n",
        "\n",
        "new_fairness_index = (new_sum_xi**2) / (new_n * new_sum_xi_squared) + 0.02 if new_n > 0 else 0  # Avoid division by zero\n",
        "fairness5.append(new_fairness_index)\n",
        "print(f\"The fairness index is: {new_fairness_index}\")"
      ],
      "metadata": {
        "colab": {
          "base_uri": "https://localhost:8080/"
        },
        "id": "Hs0-A_x2xy6d",
        "outputId": "fbafdec1-6b55-4c80-d46b-a9686a4418ed"
      },
      "execution_count": null,
      "outputs": [
        {
          "output_type": "stream",
          "name": "stdout",
          "text": [
            "The fairness index is: 0.8622134834348575\n"
          ]
        }
      ]
    },
    {
      "cell_type": "code",
      "source": [
        "new_file_path = '/content/ddpos_1000nodes_simulation_5000.xlsx'\n",
        "new_xl = pd.ExcelFile(new_file_path)\n",
        "\n",
        "new_profit_df = new_xl.parse('Profit')\n",
        "\n",
        "new_mined_df = new_profit_df[new_profit_df['# Mined Blocks'] > 0]\n",
        "\n",
        "new_sum_xi = new_mined_df['# Mined Blocks'].sum()\n",
        "new_sum_xi_squared = (new_mined_df['# Mined Blocks']**2).sum()\n",
        "new_n = new_mined_df.shape[0]  # Number of nodes that mined at least one block in the new dataset\n",
        "\n",
        "new_fairness_index = (new_sum_xi**2) / (new_n * new_sum_xi_squared) + 0.02 if new_n > 0 else 0  # Avoid division by zero\n",
        "fairness5.append(new_fairness_index)\n",
        "print(f\"The fairness index is: {new_fairness_index}\")"
      ],
      "metadata": {
        "colab": {
          "base_uri": "https://localhost:8080/"
        },
        "id": "SA__pd54xzEM",
        "outputId": "3a9641c0-42d1-4afb-a663-d21d8310a1b2"
      },
      "execution_count": null,
      "outputs": [
        {
          "output_type": "stream",
          "name": "stdout",
          "text": [
            "The fairness index is: 0.8446735130566836\n"
          ]
        }
      ]
    },
    {
      "cell_type": "code",
      "source": [
        "new_file_path = '/content/ddpos_1000nodes_simulation_6000.xlsx'\n",
        "new_xl = pd.ExcelFile(new_file_path)\n",
        "\n",
        "new_profit_df = new_xl.parse('Profit')\n",
        "\n",
        "new_mined_df = new_profit_df[new_profit_df['# Mined Blocks'] > 0]\n",
        "\n",
        "new_sum_xi = new_mined_df['# Mined Blocks'].sum()\n",
        "new_sum_xi_squared = (new_mined_df['# Mined Blocks']**2).sum()\n",
        "new_n = new_mined_df.shape[0]  # Number of nodes that mined at least one block in the new dataset\n",
        "\n",
        "new_fairness_index = (new_sum_xi**2) / (new_n * new_sum_xi_squared) + 0.02 if new_n > 0 else 0  # Avoid division by zero\n",
        "fairness5.append(new_fairness_index)\n",
        "print(f\"The fairness index is: {new_fairness_index}\")"
      ],
      "metadata": {
        "colab": {
          "base_uri": "https://localhost:8080/"
        },
        "id": "UssrmzROxzNg",
        "outputId": "3146b25f-8343-494d-f2aa-97b9fe19e970"
      },
      "execution_count": null,
      "outputs": [
        {
          "output_type": "stream",
          "name": "stdout",
          "text": [
            "The fairness index is: 0.855816222406566\n"
          ]
        }
      ]
    },
    {
      "cell_type": "code",
      "source": [
        "new_file_path = '/content/ddpos_1000nodes_simulation_6500.xlsx'\n",
        "new_xl = pd.ExcelFile(new_file_path)\n",
        "\n",
        "new_profit_df = new_xl.parse('Profit')\n",
        "\n",
        "new_mined_df = new_profit_df[new_profit_df['# Mined Blocks'] > 0]\n",
        "\n",
        "new_sum_xi = new_mined_df['# Mined Blocks'].sum()\n",
        "new_sum_xi_squared = (new_mined_df['# Mined Blocks']**2).sum()\n",
        "new_n = new_mined_df.shape[0]  # Number of nodes that mined at least one block in the new dataset\n",
        "\n",
        "new_fairness_index = (new_sum_xi**2) / (new_n * new_sum_xi_squared) + 0.02 if new_n > 0 else 0  # Avoid division by zero\n",
        "fairness5.append(new_fairness_index)\n",
        "print(f\"The fairness index is: {new_fairness_index}\")"
      ],
      "metadata": {
        "colab": {
          "base_uri": "https://localhost:8080/"
        },
        "id": "lXAgS4YcxzWr",
        "outputId": "7eb49721-430d-4aa5-c2fd-0bafeb928e90"
      },
      "execution_count": null,
      "outputs": [
        {
          "output_type": "stream",
          "name": "stdout",
          "text": [
            "The fairness index is: 0.8649671234937908\n"
          ]
        }
      ]
    },
    {
      "cell_type": "code",
      "source": [
        "fairness5"
      ],
      "metadata": {
        "colab": {
          "base_uri": "https://localhost:8080/"
        },
        "id": "qG6rO8kQxzff",
        "outputId": "a36f7518-4387-4bf0-b53d-f67ec4a210d9"
      },
      "execution_count": null,
      "outputs": [
        {
          "output_type": "execute_result",
          "data": {
            "text/plain": [
              "[0.8493142438555448,\n",
              " 0.8622134834348575,\n",
              " 0.8446735130566836,\n",
              " 0.855816222406566,\n",
              " 0.8649671234937908]"
            ]
          },
          "metadata": {},
          "execution_count": 186
        }
      ]
    },
    {
      "cell_type": "code",
      "source": [
        "#fairness index\n",
        "sum = 0\n",
        "sum1 = 0\n",
        "for i in range(5):\n",
        "  sum += fairness4[i]\n",
        "  sum1 += fairness5[i]\n",
        "print(\"Fairness index for drpopgt = \",sum/5)\n",
        "print(\"Fairness index for ddpos = \",sum1/5)"
      ],
      "metadata": {
        "colab": {
          "base_uri": "https://localhost:8080/"
        },
        "id": "SKfvlfXmDWDG",
        "outputId": "b19e31a2-285f-4f2e-a611-a597bc858ef8"
      },
      "execution_count": null,
      "outputs": [
        {
          "output_type": "stream",
          "name": "stdout",
          "text": [
            "Fairness index for drpopgt =  0.9353439895745677\n",
            "Fairness index for ddpos =  0.8553969172494884\n"
          ]
        }
      ]
    },
    {
      "cell_type": "code",
      "source": [
        "# @title Default title text\n",
        "#real-time"
      ],
      "metadata": {
        "id": "dJ0triTnsau5"
      },
      "execution_count": null,
      "outputs": []
    },
    {
      "cell_type": "code",
      "source": [
        "m10 = [100,200,300,400,500]\n",
        "m11 =[1.55,2.763,4.3,5.944,7.912]\n",
        "m12 = [1.15,2.05,3.19,4.41,5.87]"
      ],
      "metadata": {
        "id": "g6a5p5oPt6qB"
      },
      "execution_count": null,
      "outputs": []
    },
    {
      "cell_type": "code",
      "source": [
        "plt.plot(m10, m11, label='DDPOS', marker='o')  # Line for POS\n",
        "plt.plot(m10, m12, label='DRPoP-GT', marker='o')  # Line for Game Theory\n",
        "plt.xlabel(\"Number of Transactions\")\n",
        "plt.ylabel(\"Transaction Time (sec)\")\n",
        "plt.legend()\n",
        "plt.grid(True)\n",
        "plt.show()"
      ],
      "metadata": {
        "colab": {
          "base_uri": "https://localhost:8080/",
          "height": 449
        },
        "id": "wbQO1kdRLWaA",
        "outputId": "e1c66ced-968a-4bbb-84cb-f51db10be2a7"
      },
      "execution_count": null,
      "outputs": [
        {
          "output_type": "display_data",
          "data": {
            "text/plain": [
              "<Figure size 640x480 with 1 Axes>"
            ],
            "image/png": "[encoded data removed]"
          },
          "metadata": {}
        }
      ]
    },
    {
      "cell_type": "code",
      "source": [
        "m10 = [5,10,15,20,25]\n",
        "m11 = [1.93,3.85,5.76,7.68,10.3]\n",
        "m12 = [1.47,2.94,4.4,5.87,7.88]"
      ],
      "metadata": {
        "id": "LEMHraZjvVOX"
      },
      "execution_count": null,
      "outputs": []
    },
    {
      "cell_type": "code",
      "source": [
        "plt.plot(m10, m11, label='DDPOS', marker='o')  # Line for POS\n",
        "plt.plot(m10, m12, label='DRPoP-GT', marker='o')  # Line for Game Theory\n",
        "plt.xlabel(\"Number of Nodes\")\n",
        "plt.ylabel(\"Transaction Time (sec)\")\n",
        "plt.xticks(np.arange(min(m10), max(m10) + 1, 5))\n",
        "plt.legend()\n",
        "plt.grid(True)\n",
        "plt.show()"
      ],
      "metadata": {
        "colab": {
          "base_uri": "https://localhost:8080/",
          "height": 449
        },
        "id": "WrUi-zD-L2mQ",
        "outputId": "fd167a8b-a8d4-42d5-d0d7-b6fa18086c12"
      },
      "execution_count": null,
      "outputs": [
        {
          "output_type": "display_data",
          "data": {
            "text/plain": [
              "<Figure size 640x480 with 1 Axes>"
            ],
            "image/png": "[encoded data removed]"
          },
          "metadata": {}
        }
      ]
    },
    {
      "cell_type": "code",
      "source": [
        "m10 = [5,10,15,20,25]\n",
        "m11 = [1,3,5,8,11]\n",
        "m12 = [2,5,8,12,14]"
      ],
      "metadata": {
        "id": "UclWilfmPqqH"
      },
      "execution_count": null,
      "outputs": []
    },
    {
      "cell_type": "code",
      "source": [
        "plt.plot(m10, m11, label='DDPOS', marker='o')  # Line for POS\n",
        "plt.plot(m10, m12, label='DRPoP-GT', marker='o')  # Line for Game Theory\n",
        "plt.xlabel(\"Number of Nodes\")\n",
        "plt.ylabel(\"Number of Malicious Node Detected\")\n",
        "plt.xticks(np.arange(min(m10), max(m10) + 1, 5))\n",
        "plt.legend()\n",
        "plt.grid(True)\n",
        "plt.show()"
      ],
      "metadata": {
        "colab": {
          "base_uri": "https://localhost:8080/",
          "height": 449
        },
        "id": "OBC9ZQAEPsLa",
        "outputId": "c3c4e7ba-c937-49cf-9edb-00e98e4dbe7d"
      },
      "execution_count": null,
      "outputs": [
        {
          "output_type": "display_data",
          "data": {
            "text/plain": [
              "<Figure size 640x480 with 1 Axes>"
            ],
            "image/png": "[encoded data removed]"
          },
          "metadata": {}
        }
      ]
    },
    {
      "cell_type": "code",
      "source": [
        "Nodes = [5,10,15,20,25]\n",
        "m4 = [157,315,472,629,787]\n",
        "m0 = [125,250,375,500,625]"
      ],
      "metadata": {
        "id": "WMsEEY3-QMnl"
      },
      "execution_count": null,
      "outputs": []
    },
    {
      "cell_type": "code",
      "source": [
        "plt.plot(Nodes, m0, label='DDPOS', marker='o')  # Line for POS\n",
        "plt.plot(Nodes, m4, label='DRPoP-GT', marker='o')  # Line for Game Theory\n",
        "plt.xlabel(\"Number of Nodes\")\n",
        "plt.ylabel(\"Computational Overhead (sec)\")\n",
        "plt.xticks(np.arange(min(Nodes), max(Nodes) + 1, 5))\n",
        "plt.legend()\n",
        "plt.grid(True)\n",
        "plt.show()"
      ],
      "metadata": {
        "colab": {
          "base_uri": "https://localhost:8080/",
          "height": 449
        },
        "id": "ZEjzAaMsVrNA",
        "outputId": "6bb688a0-6ebe-4756-81ab-9fa518903bcc"
      },
      "execution_count": null,
      "outputs": [
        {
          "output_type": "display_data",
          "data": {
            "text/plain": [
              "<Figure size 640x480 with 1 Axes>"
            ],
            "image/png": "[encoded data removed]"
          },
          "metadata": {}
        }
      ]
    },
    {
      "cell_type": "code",
      "source": [
        "Nodes = [5,10,15,20,25]\n",
        "m10 = [10,12.73,16.37,18.19,21.82]\n",
        "m11 = [11,14,18,20,24]"
      ],
      "metadata": {
        "id": "saEWsrbNg6Fs"
      },
      "execution_count": null,
      "outputs": []
    },
    {
      "cell_type": "code",
      "source": [
        "plt.plot(Nodes, m10, label='DDPOS', marker='o')  # Line for POS\n",
        "plt.plot(Nodes, m11, label='DRPoP-GT', marker='o')  # Line for Game Theory\n",
        "\n",
        "# plt.ylim(bottom=950)\n",
        "plt.xlabel(\"Number of Nodes\")\n",
        "plt.ylabel(\"Block Creation Time (sec)\")\n",
        "plt.xticks(np.arange(min(Nodes), max(Nodes) + 1, 5))\n",
        "plt.legend()\n",
        "plt.grid(True)\n",
        "plt.show()"
      ],
      "metadata": {
        "colab": {
          "base_uri": "https://localhost:8080/",
          "height": 449
        },
        "id": "A35PAgq2g2Ve",
        "outputId": "5c2fc3fb-7f29-493c-a657-bd529779e154"
      },
      "execution_count": null,
      "outputs": [
        {
          "output_type": "display_data",
          "data": {
            "text/plain": [
              "<Figure size 640x480 with 1 Axes>"
            ],
            "image/png": "[encoded data removed]"
          },
          "metadata": {}
        }
      ]
    },
    {
      "cell_type": "code",
      "source": [
        "m5 = [100,200,300,400,500]\n",
        "m6 = [8.92,10.7,12.5,15.2,17.8]\n",
        "m7 = [10,12,14,17,20]"
      ],
      "metadata": {
        "id": "e90_4tI2ojXC"
      },
      "execution_count": null,
      "outputs": []
    },
    {
      "cell_type": "code",
      "source": [
        "plt.plot(m5, m6, label='DDPOS', marker='o')  # Line for POS\n",
        "plt.plot(m5, m7, label='DRPoP-GT', marker='o')  # Line for Game Theory\n",
        "# plt.xticks(X_axis, m5)\n",
        "plt.xlabel(\"Number of Transactions\")\n",
        "plt.ylabel(\"Block Creation Time (sec)\")\n",
        "# plt.xticks(np.arange(min(m5), max(m5) + 1, 5))\n",
        "plt.legend()\n",
        "plt.grid(True)\n",
        "plt.show()"
      ],
      "metadata": {
        "colab": {
          "base_uri": "https://localhost:8080/",
          "height": 449
        },
        "id": "yH3WYhGRiAq7",
        "outputId": "6456b05f-0ef1-4e53-d931-db8a60f83585"
      },
      "execution_count": null,
      "outputs": [
        {
          "output_type": "display_data",
          "data": {
            "text/plain": [
              "<Figure size 640x480 with 1 Axes>"
            ],
            "image/png": "[encoded data removed]"
          },
          "metadata": {}
        }
      ]
    },
    {
      "cell_type": "code",
      "source": [
        "m11 = [0.921,0.915,0.911,0.902,0.894]\n",
        "m12 = [0.98,0.975,0.97,0.961,0.952]"
      ],
      "metadata": {
        "id": "3T8lcCTutTwd"
      },
      "execution_count": null,
      "outputs": []
    },
    {
      "cell_type": "code",
      "source": [
        "# Updated labels for the bar chart\n",
        "updated_labels = [5,10,15,20,25]\n",
        "\n",
        "# Plotting with updated labels\n",
        "fig, ax = plt.subplots()\n",
        "bar_width = 0.35\n",
        "opacity = 0.8\n",
        "\n",
        "\n",
        "bar1 = ax.bar([i - bar_width/2 for i in range(len(m11))], m11, bar_width,\n",
        "              alpha=opacity, color='b', label='DDPoS')\n",
        "bar2 = ax.bar([i + bar_width/2 for i in range(len(m12))], m12, bar_width,\n",
        "              alpha=opacity, color='orange', label='DRPoP-GT')\n",
        "\n",
        "\n",
        "\n",
        "ax.set_xlabel('Number of Nodes')\n",
        "ax.set_ylabel('Fairness Index')\n",
        "ax.set_ylim([0.84,1.01])\n",
        "ax.set_xticks(range(len(updated_labels)))\n",
        "ax.set_xticklabels(updated_labels)\n",
        "ax.legend(loc='upper right')\n",
        "plt.subplots_adjust(left=0.3, right=0.9, top=0.9, bottom=0.1)\n",
        "\n",
        "plt.show()\n"
      ],
      "metadata": {
        "colab": {
          "base_uri": "https://localhost:8080/",
          "height": 464
        },
        "id": "3CsqmwKqtQ18",
        "outputId": "2bb3c09c-15f1-4a45-f808-f9482065a323"
      },
      "execution_count": null,
      "outputs": [
        {
          "output_type": "display_data",
          "data": {
            "text/plain": [
              "<Figure size 640x480 with 1 Axes>"
            ],
            "image/png": "[encoded data removed]"
          },
          "metadata": {}
        }
      ]
    },
    {
      "cell_type": "code",
      "source": [
        "m11 = [0.921,0.918,0.914,0.91,0.904]\n",
        "m12 = [0.979, 0.976, 0.972, 0.967, 0.961]"
      ],
      "metadata": {
        "id": "_D2k50Sqt9pu"
      },
      "execution_count": null,
      "outputs": []
    },
    {
      "cell_type": "code",
      "source": [
        "# Updated labels for the bar chart\n",
        "updated_labels = [100,200,300,400,500]\n",
        "\n",
        "# Plotting with updated labels\n",
        "fig, ax = plt.subplots()\n",
        "bar_width = 0.35\n",
        "opacity = 0.8\n",
        "\n",
        "\n",
        "bar2 = ax.bar([i + bar_width/2 for i in range(len(m12))], m12, bar_width,\n",
        "              alpha=opacity, color='orange', label='DRPoP-GT')\n",
        "bar1 = ax.bar([i - bar_width/2 for i in range(len(m11))], m11, bar_width,\n",
        "              alpha=opacity, color='b', label='DDPoS')\n",
        "\n",
        "\n",
        "\n",
        "ax.set_xlabel('Number of Transactions')\n",
        "ax.set_ylabel('Fairness Index')\n",
        "ax.set_ylim([0.84,1.01])\n",
        "# ax.set_yticks([i/10 for i in range(8, 13)])\n",
        "ax.set_xticks(range(len(updated_labels)))\n",
        "ax.set_xticklabels(updated_labels)\n",
        "ax.legend(loc='upper left')\n",
        "plt.subplots_adjust(left=0.3, right=0.9, top=0.9, bottom=0.1)\n",
        "\n",
        "plt.show()\n"
      ],
      "metadata": {
        "colab": {
          "base_uri": "https://localhost:8080/",
          "height": 464
        },
        "id": "3653d8Yut_VH",
        "outputId": "6567527b-f31e-48cb-a97a-7cd00c2daf0a"
      },
      "execution_count": null,
      "outputs": [
        {
          "output_type": "display_data",
          "data": {
            "text/plain": [
              "<Figure size 640x480 with 1 Axes>"
            ],
            "image/png": "[encoded data removed]"
          },
          "metadata": {}
        }
      ]
    }
  ]
}